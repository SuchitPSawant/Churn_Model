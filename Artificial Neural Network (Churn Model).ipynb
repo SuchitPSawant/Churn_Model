{
 "cells": [
  {
   "cell_type": "markdown",
   "metadata": {
    "colab_type": "text",
    "id": "lP6JLo1tGNBg"
   },
   "source": [
    "# Artificial Neural Network"
   ]
  },
  {
   "cell_type": "markdown",
   "metadata": {
    "colab_type": "text",
    "id": "gWZyYmS_UE_L"
   },
   "source": [
    "### Importing the libraries"
   ]
  },
  {
   "cell_type": "code",
   "execution_count": 1,
   "metadata": {
    "colab": {},
    "colab_type": "code",
    "id": "MxkJoQBkUIHC"
   },
   "outputs": [],
   "source": [
    "import numpy as np\n",
    "import pandas as pd\n",
    "import tensorflow as tf"
   ]
  },
  {
   "cell_type": "markdown",
   "metadata": {
    "colab_type": "text",
    "id": "QYmG-UUq2dOx"
   },
   "source": [
    "Checking the version of tensorflow."
   ]
  },
  {
   "cell_type": "code",
   "execution_count": 2,
   "metadata": {
    "colab": {
     "base_uri": "https://localhost:8080/",
     "height": 35
    },
    "colab_type": "code",
    "id": "ZaTwK7ojXr2F",
    "outputId": "2e9cad82-38b1-40ed-dd14-246107639c8d"
   },
   "outputs": [
    {
     "data": {
      "text/plain": [
       "'2.1.0'"
      ]
     },
     "execution_count": 2,
     "metadata": {},
     "output_type": "execute_result"
    }
   ],
   "source": [
    "tf.__version__"
   ]
  },
  {
   "cell_type": "markdown",
   "metadata": {
    "colab_type": "text",
    "id": "1E0Q3aoKUCRX"
   },
   "source": [
    "## Part 1 - Data Preprocessing"
   ]
  },
  {
   "cell_type": "markdown",
   "metadata": {
    "colab_type": "text",
    "id": "cKWAkFVGUU0Z"
   },
   "source": [
    "### Importing the dataset"
   ]
  },
  {
   "cell_type": "code",
   "execution_count": 3,
   "metadata": {
    "colab": {},
    "colab_type": "code",
    "id": "MXUkhkMfU4wq"
   },
   "outputs": [],
   "source": [
    "dataset = pd.read_csv('Churn_Modelling.csv')\n",
    "X = dataset.iloc[:, 3:-1].values\n",
    "y = dataset.iloc[:, -1].values"
   ]
  },
  {
   "cell_type": "code",
   "execution_count": 4,
   "metadata": {
    "colab": {
     "base_uri": "https://localhost:8080/",
     "height": 139
    },
    "colab_type": "code",
    "id": "VYP9cQTWbzuI",
    "outputId": "8c923737-ffb7-49e8-e3bd-0bc2b523bc96"
   },
   "outputs": [
    {
     "name": "stdout",
     "output_type": "stream",
     "text": [
      "[[619 'France' 'Female' ... 1 1 101348.88]\n",
      " [608 'Spain' 'Female' ... 0 1 112542.58]\n",
      " [502 'France' 'Female' ... 1 0 113931.57]\n",
      " ...\n",
      " [709 'France' 'Female' ... 0 1 42085.58]\n",
      " [772 'Germany' 'Male' ... 1 0 92888.52]\n",
      " [792 'France' 'Female' ... 1 0 38190.78]]\n"
     ]
    }
   ],
   "source": [
    "print(X)"
   ]
  },
  {
   "cell_type": "code",
   "execution_count": 5,
   "metadata": {
    "colab": {
     "base_uri": "https://localhost:8080/",
     "height": 35
    },
    "colab_type": "code",
    "id": "38vKGE6Nb2RR",
    "outputId": "1f669003-7957-4de6-dd87-c56b531b0430"
   },
   "outputs": [
    {
     "name": "stdout",
     "output_type": "stream",
     "text": [
      "[1 0 1 ... 1 1 0]\n"
     ]
    }
   ],
   "source": [
    "print(y)"
   ]
  },
  {
   "cell_type": "markdown",
   "metadata": {
    "colab_type": "text",
    "id": "N6bQ0UgSU-NJ"
   },
   "source": [
    "### Encoding categorical data"
   ]
  },
  {
   "cell_type": "markdown",
   "metadata": {
    "colab_type": "text",
    "id": "le5MJreAbW52"
   },
   "source": [
    "Label Encoding the \"Gender\" column."
   ]
  },
  {
   "cell_type": "code",
   "execution_count": 6,
   "metadata": {
    "colab": {},
    "colab_type": "code",
    "id": "PxVKWXxLbczC"
   },
   "outputs": [],
   "source": [
    "from sklearn.preprocessing import LabelEncoder\n",
    "le = LabelEncoder()\n",
    "X[:, 2] = le.fit_transform(X[:, 2])"
   ]
  },
  {
   "cell_type": "code",
   "execution_count": 7,
   "metadata": {
    "colab": {
     "base_uri": "https://localhost:8080/",
     "height": 139
    },
    "colab_type": "code",
    "id": "-M1KboxFb6OO",
    "outputId": "cbe64685-5945-4c64-ec6d-14d2e9a7c012"
   },
   "outputs": [
    {
     "name": "stdout",
     "output_type": "stream",
     "text": [
      "[[619 'France' 0 ... 1 1 101348.88]\n",
      " [608 'Spain' 0 ... 0 1 112542.58]\n",
      " [502 'France' 0 ... 1 0 113931.57]\n",
      " ...\n",
      " [709 'France' 0 ... 0 1 42085.58]\n",
      " [772 'Germany' 1 ... 1 0 92888.52]\n",
      " [792 'France' 0 ... 1 0 38190.78]]\n"
     ]
    }
   ],
   "source": [
    "print(X)"
   ]
  },
  {
   "cell_type": "markdown",
   "metadata": {
    "colab_type": "text",
    "id": "CUxGZezpbMcb"
   },
   "source": [
    "One Hot Encoding the \"Geography\" column."
   ]
  },
  {
   "cell_type": "code",
   "execution_count": 8,
   "metadata": {
    "colab": {},
    "colab_type": "code",
    "id": "AMXC8-KMVirw"
   },
   "outputs": [],
   "source": [
    "from sklearn.compose import ColumnTransformer\n",
    "from sklearn.preprocessing import OneHotEncoder\n",
    "ct = ColumnTransformer(transformers=[('encoder', OneHotEncoder(), [1])], remainder='passthrough')\n",
    "X = np.array(ct.fit_transform(X))"
   ]
  },
  {
   "cell_type": "code",
   "execution_count": 9,
   "metadata": {
    "colab": {
     "base_uri": "https://localhost:8080/",
     "height": 139
    },
    "colab_type": "code",
    "id": "ZcxwEon-b8nV",
    "outputId": "809be79f-0de4-4c77-a565-d234f6fd36be"
   },
   "outputs": [
    {
     "name": "stdout",
     "output_type": "stream",
     "text": [
      "[[1.0 0.0 0.0 ... 1 1 101348.88]\n",
      " [0.0 0.0 1.0 ... 0 1 112542.58]\n",
      " [1.0 0.0 0.0 ... 1 0 113931.57]\n",
      " ...\n",
      " [1.0 0.0 0.0 ... 0 1 42085.58]\n",
      " [0.0 1.0 0.0 ... 1 0 92888.52]\n",
      " [1.0 0.0 0.0 ... 1 0 38190.78]]\n"
     ]
    }
   ],
   "source": [
    "print(X)"
   ]
  },
  {
   "cell_type": "markdown",
   "metadata": {
    "colab_type": "text",
    "id": "vHol938cW8zd"
   },
   "source": [
    "### Splitting the dataset into the Training set and Test set"
   ]
  },
  {
   "cell_type": "code",
   "execution_count": 10,
   "metadata": {
    "colab": {},
    "colab_type": "code",
    "id": "Z-TDt0Y_XEfc"
   },
   "outputs": [],
   "source": [
    "from sklearn.model_selection import train_test_split\n",
    "X_train, X_test, y_train, y_test = train_test_split(X, y, test_size = 0.2, random_state = 0)"
   ]
  },
  {
   "cell_type": "markdown",
   "metadata": {
    "colab_type": "text",
    "id": "RE_FcHyfV3TQ"
   },
   "source": [
    "### Feature Scaling"
   ]
  },
  {
   "cell_type": "code",
   "execution_count": 11,
   "metadata": {
    "colab": {},
    "colab_type": "code",
    "id": "ViCrE00rV8Sk"
   },
   "outputs": [],
   "source": [
    "from sklearn.preprocessing import StandardScaler\n",
    "sc = StandardScaler()\n",
    "X_train = sc.fit_transform(X_train)\n",
    "X_test = sc.transform(X_test)"
   ]
  },
  {
   "cell_type": "markdown",
   "metadata": {
    "colab_type": "text",
    "id": "-zfEzkRVXIwF"
   },
   "source": [
    "## Part 2 - Building the ANN"
   ]
  },
  {
   "cell_type": "markdown",
   "metadata": {
    "colab_type": "text",
    "id": "KvdeScabXtlB"
   },
   "source": [
    "### Initializing the ANN"
   ]
  },
  {
   "cell_type": "code",
   "execution_count": 12,
   "metadata": {
    "colab": {},
    "colab_type": "code",
    "id": "3dtrScHxXQox"
   },
   "outputs": [],
   "source": [
    "ann = tf.keras.models.Sequential()"
   ]
  },
  {
   "cell_type": "markdown",
   "metadata": {
    "colab_type": "text",
    "id": "rP6urV6SX7kS"
   },
   "source": [
    "### Adding the input layer and the first hidden layer"
   ]
  },
  {
   "cell_type": "code",
   "execution_count": 13,
   "metadata": {
    "colab": {},
    "colab_type": "code",
    "id": "bppGycBXYCQr"
   },
   "outputs": [],
   "source": [
    "ann.add(tf.keras.layers.Dense(units=6, activation='relu'))"
   ]
  },
  {
   "cell_type": "markdown",
   "metadata": {
    "colab_type": "text",
    "id": "BELWAc_8YJze"
   },
   "source": [
    "### Adding the second hidden layer"
   ]
  },
  {
   "cell_type": "code",
   "execution_count": 14,
   "metadata": {
    "colab": {},
    "colab_type": "code",
    "id": "JneR0u0sYRTd"
   },
   "outputs": [],
   "source": [
    "ann.add(tf.keras.layers.Dense(units=6, activation='relu'))"
   ]
  },
  {
   "cell_type": "markdown",
   "metadata": {
    "colab_type": "text",
    "id": "OyNEe6RXYcU4"
   },
   "source": [
    "### Adding the output layer"
   ]
  },
  {
   "cell_type": "code",
   "execution_count": 15,
   "metadata": {
    "colab": {},
    "colab_type": "code",
    "id": "Cn3x41RBYfvY"
   },
   "outputs": [],
   "source": [
    "ann.add(tf.keras.layers.Dense(units=1, activation='sigmoid'))"
   ]
  },
  {
   "cell_type": "markdown",
   "metadata": {
    "colab_type": "text",
    "id": "JT4u2S1_Y4WG"
   },
   "source": [
    "## Part 3 - Training the ANN"
   ]
  },
  {
   "cell_type": "markdown",
   "metadata": {
    "colab_type": "text",
    "id": "8GWlJChhY_ZI"
   },
   "source": [
    "### Compiling the ANN"
   ]
  },
  {
   "cell_type": "code",
   "execution_count": 16,
   "metadata": {
    "colab": {},
    "colab_type": "code",
    "id": "fG3RrwDXZEaS"
   },
   "outputs": [],
   "source": [
    "ann.compile(optimizer = 'adam', loss = 'binary_crossentropy', metrics = ['accuracy'])"
   ]
  },
  {
   "cell_type": "markdown",
   "metadata": {
    "colab_type": "text",
    "id": "0QR_G5u7ZLSM"
   },
   "source": [
    "### Training the ANN on the Training set"
   ]
  },
  {
   "cell_type": "code",
   "execution_count": 17,
   "metadata": {
    "colab": {
     "base_uri": "https://localhost:8080/",
     "height": 1000
    },
    "colab_type": "code",
    "id": "nHZ-LKv_ZRb3",
    "outputId": "b103dcb7-e26d-4a1d-b32b-f748466a8ca4"
   },
   "outputs": [
    {
     "name": "stdout",
     "output_type": "stream",
     "text": [
      "Train on 8000 samples\n",
      "Epoch 1/100\n",
      "8000/8000 [==============================] - 2s 220us/sample - loss: 0.5443 - accuracy: 0.7810\n",
      "Epoch 2/100\n",
      "8000/8000 [==============================] - 1s 149us/sample - loss: 0.4682 - accuracy: 0.7960\n",
      "Epoch 3/100\n",
      "8000/8000 [==============================] - 1s 121us/sample - loss: 0.4470 - accuracy: 0.7960\n",
      "Epoch 4/100\n",
      "8000/8000 [==============================] - 1s 66us/sample - loss: 0.4366 - accuracy: 0.7960\n",
      "Epoch 5/100\n",
      "8000/8000 [==============================] - 1s 120us/sample - loss: 0.4314 - accuracy: 0.7960\n",
      "Epoch 6/100\n",
      "8000/8000 [==============================] - 1s 136us/sample - loss: 0.4286 - accuracy: 0.7960\n",
      "Epoch 7/100\n",
      "8000/8000 [==============================] - 1s 131us/sample - loss: 0.4261 - accuracy: 0.8084\n",
      "Epoch 8/100\n",
      "8000/8000 [==============================] - 1s 130us/sample - loss: 0.4241 - accuracy: 0.8154\n",
      "Epoch 9/100\n",
      "8000/8000 [==============================] - 1s 147us/sample - loss: 0.4220 - accuracy: 0.8199\n",
      "Epoch 10/100\n",
      "8000/8000 [==============================] - 1s 148us/sample - loss: 0.4195 - accuracy: 0.8234\n",
      "Epoch 11/100\n",
      "8000/8000 [==============================] - 1s 163us/sample - loss: 0.4158 - accuracy: 0.8263\n",
      "Epoch 12/100\n",
      "8000/8000 [==============================] - 1s 132us/sample - loss: 0.4105 - accuracy: 0.8294\n",
      "Epoch 13/100\n",
      "8000/8000 [==============================] - 1s 101us/sample - loss: 0.4037 - accuracy: 0.8329\n",
      "Epoch 14/100\n",
      "8000/8000 [==============================] - 1s 101us/sample - loss: 0.3960 - accuracy: 0.8378\n",
      "Epoch 15/100\n",
      "8000/8000 [==============================] - 1s 89us/sample - loss: 0.3900 - accuracy: 0.8389\n",
      "Epoch 16/100\n",
      "8000/8000 [==============================] - 1s 82us/sample - loss: 0.3845 - accuracy: 0.8407\n",
      "Epoch 17/100\n",
      "8000/8000 [==============================] - 1s 131us/sample - loss: 0.3797 - accuracy: 0.8416\n",
      "Epoch 18/100\n",
      "8000/8000 [==============================] - 1s 112us/sample - loss: 0.3757 - accuracy: 0.8432\n",
      "Epoch 19/100\n",
      "8000/8000 [==============================] - 0s 61us/sample - loss: 0.3719 - accuracy: 0.8464\n",
      "Epoch 20/100\n",
      "8000/8000 [==============================] - 1s 98us/sample - loss: 0.3687 - accuracy: 0.8471\n",
      "Epoch 21/100\n",
      "8000/8000 [==============================] - 1s 89us/sample - loss: 0.3658 - accuracy: 0.8500\n",
      "Epoch 22/100\n",
      "8000/8000 [==============================] - 1s 83us/sample - loss: 0.3628 - accuracy: 0.8480\n",
      "Epoch 23/100\n",
      "8000/8000 [==============================] - 1s 97us/sample - loss: 0.3607 - accuracy: 0.8495\n",
      "Epoch 24/100\n",
      "8000/8000 [==============================] - 1s 108us/sample - loss: 0.3585 - accuracy: 0.8518\n",
      "Epoch 25/100\n",
      "8000/8000 [==============================] - 1s 110us/sample - loss: 0.3570 - accuracy: 0.8544\n",
      "Epoch 26/100\n",
      "8000/8000 [==============================] - 1s 107us/sample - loss: 0.3558 - accuracy: 0.8549\n",
      "Epoch 27/100\n",
      "8000/8000 [==============================] - 1s 125us/sample - loss: 0.3542 - accuracy: 0.8565\n",
      "Epoch 28/100\n",
      "8000/8000 [==============================] - 1s 138us/sample - loss: 0.3533 - accuracy: 0.8571\n",
      "Epoch 29/100\n",
      "8000/8000 [==============================] - 1s 149us/sample - loss: 0.3518 - accuracy: 0.8576\n",
      "Epoch 30/100\n",
      "8000/8000 [==============================] - 1s 127us/sample - loss: 0.3510 - accuracy: 0.8581\n",
      "Epoch 31/100\n",
      "8000/8000 [==============================] - 1s 84us/sample - loss: 0.3500 - accuracy: 0.8569\n",
      "Epoch 32/100\n",
      "8000/8000 [==============================] - 1s 148us/sample - loss: 0.3487 - accuracy: 0.8583\n",
      "Epoch 33/100\n",
      "8000/8000 [==============================] - 1s 151us/sample - loss: 0.3482 - accuracy: 0.8589\n",
      "Epoch 34/100\n",
      "8000/8000 [==============================] - 1s 117us/sample - loss: 0.3481 - accuracy: 0.8569\n",
      "Epoch 35/100\n",
      "8000/8000 [==============================] - 1s 147us/sample - loss: 0.3467 - accuracy: 0.8591\n",
      "Epoch 36/100\n",
      "8000/8000 [==============================] - 1s 148us/sample - loss: 0.3470 - accuracy: 0.8554\n",
      "Epoch 37/100\n",
      "8000/8000 [==============================] - 1s 159us/sample - loss: 0.3465 - accuracy: 0.8586\n",
      "Epoch 38/100\n",
      "8000/8000 [==============================] - 1s 158us/sample - loss: 0.3456 - accuracy: 0.8591\n",
      "Epoch 39/100\n",
      "8000/8000 [==============================] - 1s 98us/sample - loss: 0.3453 - accuracy: 0.8610\n",
      "Epoch 40/100\n",
      "8000/8000 [==============================] - 1s 113us/sample - loss: 0.3450 - accuracy: 0.8590\n",
      "Epoch 41/100\n",
      "8000/8000 [==============================] - 1s 123us/sample - loss: 0.3447 - accuracy: 0.8581\n",
      "Epoch 42/100\n",
      "8000/8000 [==============================] - 1s 147us/sample - loss: 0.3444 - accuracy: 0.8597\n",
      "Epoch 43/100\n",
      "8000/8000 [==============================] - 1s 146us/sample - loss: 0.3444 - accuracy: 0.8583\n",
      "Epoch 44/100\n",
      "8000/8000 [==============================] - 1s 143us/sample - loss: 0.3439 - accuracy: 0.8584\n",
      "Epoch 45/100\n",
      "8000/8000 [==============================] - 1s 146us/sample - loss: 0.3437 - accuracy: 0.8584\n",
      "Epoch 46/100\n",
      "8000/8000 [==============================] - 1s 142us/sample - loss: 0.3435 - accuracy: 0.8599\n",
      "Epoch 47/100\n",
      "8000/8000 [==============================] - 1s 143us/sample - loss: 0.3431 - accuracy: 0.8593\n",
      "Epoch 48/100\n",
      "8000/8000 [==============================] - 1s 141us/sample - loss: 0.3432 - accuracy: 0.8589\n",
      "Epoch 49/100\n",
      "8000/8000 [==============================] - 1s 145us/sample - loss: 0.3429 - accuracy: 0.8593\n",
      "Epoch 50/100\n",
      "8000/8000 [==============================] - 1s 147us/sample - loss: 0.3433 - accuracy: 0.8584\n",
      "Epoch 51/100\n",
      "8000/8000 [==============================] - 1s 158us/sample - loss: 0.3429 - accuracy: 0.8591\n",
      "Epoch 52/100\n",
      "8000/8000 [==============================] - 1s 102us/sample - loss: 0.3422 - accuracy: 0.8608\n",
      "Epoch 53/100\n",
      "8000/8000 [==============================] - 1s 90us/sample - loss: 0.3424 - accuracy: 0.8591\n",
      "Epoch 54/100\n",
      "8000/8000 [==============================] - 1s 127us/sample - loss: 0.3425 - accuracy: 0.8604\n",
      "Epoch 55/100\n",
      "8000/8000 [==============================] - 1s 143us/sample - loss: 0.3421 - accuracy: 0.8599\n",
      "Epoch 56/100\n",
      "8000/8000 [==============================] - 1s 143us/sample - loss: 0.3420 - accuracy: 0.8614\n",
      "Epoch 57/100\n",
      "8000/8000 [==============================] - 1s 142us/sample - loss: 0.3417 - accuracy: 0.8586\n",
      "Epoch 58/100\n",
      "8000/8000 [==============================] - 1s 143us/sample - loss: 0.3415 - accuracy: 0.8600\n",
      "Epoch 59/100\n",
      "8000/8000 [==============================] - 1s 138us/sample - loss: 0.3416 - accuracy: 0.8609\n",
      "Epoch 60/100\n",
      "8000/8000 [==============================] - 1s 123us/sample - loss: 0.3417 - accuracy: 0.8602\n",
      "Epoch 61/100\n",
      "8000/8000 [==============================] - 1s 128us/sample - loss: 0.3411 - accuracy: 0.8587\n",
      "Epoch 62/100\n",
      "8000/8000 [==============================] - 1s 134us/sample - loss: 0.3416 - accuracy: 0.8608\n",
      "Epoch 63/100\n",
      "8000/8000 [==============================] - 1s 138us/sample - loss: 0.3407 - accuracy: 0.8596\n",
      "Epoch 64/100\n",
      "8000/8000 [==============================] - 1s 141us/sample - loss: 0.3414 - accuracy: 0.8589\n",
      "Epoch 65/100\n",
      "8000/8000 [==============================] - 1s 144us/sample - loss: 0.3410 - accuracy: 0.8585\n",
      "Epoch 66/100\n",
      "8000/8000 [==============================] - 1s 157us/sample - loss: 0.3415 - accuracy: 0.8591\n",
      "Epoch 67/100\n",
      "8000/8000 [==============================] - 1s 71us/sample - loss: 0.3402 - accuracy: 0.8614\n",
      "Epoch 68/100\n",
      "8000/8000 [==============================] - 1s 72us/sample - loss: 0.3403 - accuracy: 0.8602\n",
      "Epoch 69/100\n",
      "8000/8000 [==============================] - 1s 116us/sample - loss: 0.3408 - accuracy: 0.8600\n",
      "Epoch 70/100\n",
      "8000/8000 [==============================] - 1s 143us/sample - loss: 0.3402 - accuracy: 0.8599\n",
      "Epoch 71/100\n",
      "8000/8000 [==============================] - 1s 135us/sample - loss: 0.3406 - accuracy: 0.8609\n",
      "Epoch 72/100\n",
      "8000/8000 [==============================] - 1s 141us/sample - loss: 0.3405 - accuracy: 0.8599\n",
      "Epoch 73/100\n",
      "8000/8000 [==============================] - 1s 136us/sample - loss: 0.3404 - accuracy: 0.8581\n",
      "Epoch 74/100\n",
      "8000/8000 [==============================] - 1s 124us/sample - loss: 0.3403 - accuracy: 0.8595\n",
      "Epoch 75/100\n",
      "8000/8000 [==============================] - 1s 144us/sample - loss: 0.3404 - accuracy: 0.8615\n",
      "Epoch 76/100\n"
     ]
    },
    {
     "name": "stdout",
     "output_type": "stream",
     "text": [
      "8000/8000 [==============================] - 1s 134us/sample - loss: 0.3398 - accuracy: 0.8602\n",
      "Epoch 77/100\n",
      "8000/8000 [==============================] - 1s 124us/sample - loss: 0.3400 - accuracy: 0.8600\n",
      "Epoch 78/100\n",
      "8000/8000 [==============================] - 1s 123us/sample - loss: 0.3397 - accuracy: 0.8599\n",
      "Epoch 79/100\n",
      "8000/8000 [==============================] - 1s 125us/sample - loss: 0.3396 - accuracy: 0.8599\n",
      "Epoch 80/100\n",
      "8000/8000 [==============================] - 1s 122us/sample - loss: 0.3404 - accuracy: 0.8595\n",
      "Epoch 81/100\n",
      "8000/8000 [==============================] - 1s 123us/sample - loss: 0.3400 - accuracy: 0.8591\n",
      "Epoch 82/100\n",
      "8000/8000 [==============================] - 1s 129us/sample - loss: 0.3399 - accuracy: 0.8602\n",
      "Epoch 83/100\n",
      "8000/8000 [==============================] - 1s 131us/sample - loss: 0.3394 - accuracy: 0.8599\n",
      "Epoch 84/100\n",
      "8000/8000 [==============================] - 1s 116us/sample - loss: 0.3394 - accuracy: 0.8593\n",
      "Epoch 85/100\n",
      "8000/8000 [==============================] - 1s 126us/sample - loss: 0.3392 - accuracy: 0.8609\n",
      "Epoch 86/100\n",
      "8000/8000 [==============================] - 1s 143us/sample - loss: 0.3390 - accuracy: 0.8601\n",
      "Epoch 87/100\n",
      "8000/8000 [==============================] - 1s 147us/sample - loss: 0.3391 - accuracy: 0.8593\n",
      "Epoch 88/100\n",
      "8000/8000 [==============================] - 1s 141us/sample - loss: 0.3389 - accuracy: 0.8611\n",
      "Epoch 89/100\n",
      "8000/8000 [==============================] - 1s 141us/sample - loss: 0.3390 - accuracy: 0.8604\n",
      "Epoch 90/100\n",
      "8000/8000 [==============================] - 1s 141us/sample - loss: 0.3394 - accuracy: 0.8606\n",
      "Epoch 91/100\n",
      "8000/8000 [==============================] - 1s 145us/sample - loss: 0.3393 - accuracy: 0.8606\n",
      "Epoch 92/100\n",
      "8000/8000 [==============================] - 1s 141us/sample - loss: 0.3394 - accuracy: 0.8593\n",
      "Epoch 93/100\n",
      "8000/8000 [==============================] - 1s 144us/sample - loss: 0.3393 - accuracy: 0.8604\n",
      "Epoch 94/100\n",
      "8000/8000 [==============================] - 1s 138us/sample - loss: 0.3390 - accuracy: 0.8604\n",
      "Epoch 95/100\n",
      "8000/8000 [==============================] - 1s 139us/sample - loss: 0.3381 - accuracy: 0.8601\n",
      "Epoch 96/100\n",
      "8000/8000 [==============================] - 1s 148us/sample - loss: 0.3393 - accuracy: 0.8596\n",
      "Epoch 97/100\n",
      "8000/8000 [==============================] - 1s 153us/sample - loss: 0.3388 - accuracy: 0.8594\n",
      "Epoch 98/100\n",
      "8000/8000 [==============================] - 1s 152us/sample - loss: 0.3393 - accuracy: 0.8602\n",
      "Epoch 99/100\n",
      "8000/8000 [==============================] - 1s 147us/sample - loss: 0.3382 - accuracy: 0.8606\n",
      "Epoch 100/100\n",
      "8000/8000 [==============================] - 1s 126us/sample - loss: 0.3385 - accuracy: 0.8600\n"
     ]
    },
    {
     "data": {
      "text/plain": [
       "<tensorflow.python.keras.callbacks.History at 0x12bdb42c6c8>"
      ]
     },
     "execution_count": 17,
     "metadata": {},
     "output_type": "execute_result"
    }
   ],
   "source": [
    "ann.fit(X_train, y_train, batch_size = 32, epochs = 100)"
   ]
  },
  {
   "cell_type": "markdown",
   "metadata": {
    "colab_type": "text",
    "id": "u7yx47jPZt11"
   },
   "source": [
    "### Predicting the Test set results"
   ]
  },
  {
   "cell_type": "code",
   "execution_count": 18,
   "metadata": {
    "colab": {
     "base_uri": "https://localhost:8080/",
     "height": 139
    },
    "colab_type": "code",
    "id": "nIyEeQdRZwgs",
    "outputId": "59037c36-c846-4365-ea9d-80f2348a46c2"
   },
   "outputs": [
    {
     "name": "stdout",
     "output_type": "stream",
     "text": [
      "[[0 0]\n",
      " [0 1]\n",
      " [0 0]\n",
      " ...\n",
      " [0 0]\n",
      " [0 0]\n",
      " [0 0]]\n"
     ]
    }
   ],
   "source": [
    "y_pred = ann.predict(X_test)\n",
    "y_pred = (y_pred > 0.5)\n",
    "print(np.concatenate((y_pred.reshape(len(y_pred),1), y_test.reshape(len(y_test),1)),1))"
   ]
  },
  {
   "cell_type": "markdown",
   "metadata": {
    "colab_type": "text",
    "id": "o0oyfLWoaEGw"
   },
   "source": [
    "### Making the Confusion Matrix (Determining the accuracy of the model)."
   ]
  },
  {
   "cell_type": "code",
   "execution_count": 19,
   "metadata": {
    "colab": {
     "base_uri": "https://localhost:8080/",
     "height": 69
    },
    "colab_type": "code",
    "id": "ci6K_r6LaF6P",
    "outputId": "6e809399-f0ae-43f4-a21e-e1b6d5c25037"
   },
   "outputs": [
    {
     "name": "stdout",
     "output_type": "stream",
     "text": [
      "[[1513   82]\n",
      " [ 205  200]]\n"
     ]
    },
    {
     "data": {
      "text/plain": [
       "0.8565"
      ]
     },
     "execution_count": 19,
     "metadata": {},
     "output_type": "execute_result"
    }
   ],
   "source": [
    "from sklearn.metrics import confusion_matrix, accuracy_score\n",
    "cm = confusion_matrix(y_test, y_pred)\n",
    "print(cm)\n",
    "accuracy_score(y_test, y_pred)"
   ]
  }
 ],
 "metadata": {
  "colab": {
   "collapsed_sections": [],
   "name": "Copy of artificial_neural_network.ipynb",
   "provenance": [],
   "toc_visible": true
  },
  "kernelspec": {
   "display_name": "Python 3",
   "language": "python",
   "name": "python3"
  },
  "language_info": {
   "codemirror_mode": {
    "name": "ipython",
    "version": 3
   },
   "file_extension": ".py",
   "mimetype": "text/x-python",
   "name": "python",
   "nbconvert_exporter": "python",
   "pygments_lexer": "ipython3",
   "version": "3.7.6"
  }
 },
 "nbformat": 4,
 "nbformat_minor": 1
}

After developing the model the accuracy of the model turned out an amazing 85%.
